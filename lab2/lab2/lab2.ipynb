{
 "cells": [
  {
   "cell_type": "markdown",
   "metadata": {},
   "source": [
    "# MOwNiT - układy równań liniowych"
   ]
  },
  {
   "cell_type": "markdown",
   "metadata": {},
   "source": [
    "<h3> Przydatne linki: </h3>"
   ]
  },
  {
   "cell_type": "markdown",
   "metadata": {},
   "source": [
    "- CPP: https://en.cppreference.com/w/\n",
    "\n",
    "- Układ równań liniowych: https://pl.wikipedia.org/wiki/Układ_równań_liniowych\n",
    "- Eliminacja Gaussa: https://pl.wikipedia.org/wiki/Metoda_eliminacji_Gaussa, Kincaid-Cheney* str. 245, pełny -pseudokod: str. 252\n",
    "- Norma wektora: https://pl.wikipedia.org/wiki/Przestrze%C5%84_unormowana, K.C. str. 320\n",
    "- Norma macierzy: https://pl.wikipedia.org/wiki/Norma_macierzowa\n",
    "- Faktoryzacja LU: https://pl.wikipedia.org/wiki/Metoda_LU, K.C. str. 294\n",
    "- Faktoryzacja Cholesky'ego: https://en.wikipedia.org/wiki/Cholesky_decomposition, K.C. str. 305\n",
    "- Wyznacznik macierzy: https://pl.wikipedia.org/wiki/Wyznacznik\n",
    "\n",
    "**Dodatkowe źródła przydatne przy implementacjach**\n",
    "- Rozdz. 7. Kincaida i Cheney'a (Systems of Linear Equations).\n",
    "- Rozdz. 8. Kincaida i Cheney'a (Additional Topics Concerning Systems of Linear Equations)."
   ]
  },
  {
   "cell_type": "code",
   "execution_count": 1,
   "metadata": {},
   "outputs": [],
   "source": [
    "#include <vector>\n",
    "#include <iostream>\n",
    "\n",
    "// template <typename T> class AGHMatrix \n",
    "// {\n",
    "// private:\n",
    "//     std::vector<std::vector<T>> matrix;\n",
    "//     unsigned rows;\n",
    "//     unsigned cols;\n",
    "//     void swap(unsigned i, unsigned j, unsigned k, unsigned l);\n",
    "\n",
    "    \n",
    "\n",
    "// public:\n",
    "//     AGHMatrix(const std::vector<std::vector<T>>& matrix);\n",
    "//     AGHMatrix(unsigned _rows, unsigned _cols, const T& _initial);\n",
    "//     AGHMatrix(const AGHMatrix<T>& rhs);\n",
    "//     virtual ~AGHMatrix() = default;\n",
    "\n",
    "//     // Operator overloading, for \"standard\" mathematical matrix operations                                                                                                                                                          \n",
    "//     AGHMatrix<T>& operator=(const AGHMatrix<T>& rhs);\n",
    "\n",
    "//     // Matrix mathematical operations                                                                                                                                                                                               \n",
    "//     AGHMatrix<T> operator+(const AGHMatrix<T>& rhs);\n",
    "//     AGHMatrix<T> operator*(const AGHMatrix<T>& rhs);\n",
    "\n",
    "//     // Access the individual elements                                                                                                                                                                                               \n",
    "//     T& operator()(const unsigned& row, const unsigned& col);\n",
    "//     const T& operator()(const unsigned& row, const unsigned& col) const;\n",
    "    \n",
    "//     // Printing matrix\n",
    "//     std::ostream& operator<<(const AGHMatrix<T>& matrix);\n",
    "\n",
    "//     //check whether matrix is symmetric\n",
    "//     bool check_symmetric(void);\n",
    "\n",
    "//     //transpose matrix\n",
    "//     void transpose(void);\n",
    "\n",
    "//     void LUfactorize(void);\n",
    "\n",
    "//     // Access the row and column sizes                                                                                                                                                                                              \n",
    "//     unsigned get_rows() const;\n",
    "//     unsigned get_cols() const;\n",
    "// };\n",
    "\n",
    "#include \"aghMatrix.h\""
   ]
  },
  {
   "cell_type": "markdown",
   "metadata": {},
   "source": [
    "<h3> Zadania </h3>\n",
    "\n",
    "**Zadanie 1** \n",
    "W załączonym do laboratorium kodzie napisz funkcje realizujące dodawanie oraz mnożenie macierzy."
   ]
  },
  {
   "cell_type": "code",
   "execution_count": 2,
   "metadata": {},
   "outputs": [],
   "source": [
    "// Addition of two matrices                                                                                                                                                   \n",
    "template<typename T>\n",
    "AGHMatrix<T> AGHMatrix<T>::operator+(const AGHMatrix<T>& rhs) \n",
    "{\n",
    "  // Task 1 - implement addition of two matrices\n",
    "  AGHMatrix<T> res(rows, cols, matrix[0][0]);\n",
    "  if(cols != rhs.cols || rows!= rhs.rows){\n",
    "      std::cout << \"blad dodawania zle wymiary macierzy\" << std::endl;\n",
    "      exit(-1);\n",
    "  }\n",
    "  for(int i = 0; i < rows; i++){\n",
    "      for(int j = 0; j < cols; j++){\n",
    "          res.matrix[i][j] = (rhs.matrix[i][j] + matrix[i][j]);\n",
    "      }\n",
    "  }\n",
    "\n",
    "  return res;\n",
    "}\n",
    "\n",
    "// Left multiplication of this matrix and another                                                                                                                              \n",
    "template<typename T>\n",
    "AGHMatrix<T> AGHMatrix<T>::operator*(const AGHMatrix<T>& rhs) \n",
    "{\n",
    "  // Task 1 - implement multiplication of two matrices\n",
    "  if(cols != rhs.rows){\n",
    "      std::cout << \"blad dodawania zle wymiary macierzy\" << std::endl;\n",
    "      exit(-1);\n",
    "  }\n",
    "  AGHMatrix<T> res(rows, rhs.get_cols());\n",
    "  \n",
    "  for(int i = 0; i < rows; i++){\n",
    "      for(int j = 0; j < rhs.cols;j++){\n",
    "          int sum = 0;\n",
    "          for(int k = 0; k < cols; k++){\n",
    "              sum += matrix[i][k] * rhs.matrix[k][j];\n",
    "          }\n",
    "          matrix[i][j] = sum;\n",
    "      }\n",
    "  }\n",
    "  \n",
    "}\n"
   ]
  },
  {
   "cell_type": "markdown",
   "metadata": {},
   "source": [
    "**Uwaga** W poniższych zadania można korzystać z kodu laboratoryjnego dot. macierzy, albo stworzyć własną klasę/strukturę macierzy, na której będą realizowane dalsze zadania."
   ]
  },
  {
   "cell_type": "markdown",
   "metadata": {},
   "source": [
    "**Zadanie 2**  Zaimplementuj: \n",
    "    1. Funkcję/metodę, która sprawdzi czy macierz jest symetryczna. \n",
    "    2. Funkcję/metodę, która obliczy wyznacznik macierzy.\n",
    "    3. Metodę transpose()."
   ]
  },
  {
   "cell_type": "code",
   "execution_count": 3,
   "metadata": {},
   "outputs": [],
   "source": [
    "//1\n",
    "template<typename T>\n",
    "bool AGHMatrix<T>::check_symmetric(void){\n",
    "    if(cols != rows){\n",
    "        return false;\n",
    "    }\n",
    "    for(int i = 0; i < rows; i++){\n",
    "        for(int j = 0; j < cols; j++){\n",
    "            if(matrix[i][j] != matrix[j][i]){\n",
    "                return false;\n",
    "            }\n",
    "        }\n",
    "    }\n",
    "    return true;\n",
    "}\n",
    "//2\n",
    "void LU_double(AGHMatrix<double> &a, AGHMatrix<double> &l, AGHMatrix<double> &u);"
   ]
  },
  {
   "cell_type": "code",
   "execution_count": 4,
   "metadata": {},
   "outputs": [],
   "source": [
    "double diagonal_det(AGHMatrix<double> &a){\n",
    "  double det = 1;\n",
    "  for(unsigned i = 0; i < a.get_cols(); i++){\n",
    "      det *= a(i,i);\n",
    "  }\n",
    "  return det;\n",
    "}\n"
   ]
  },
  {
   "cell_type": "code",
   "execution_count": 5,
   "metadata": {},
   "outputs": [],
   "source": [
    "double LUdet(AGHMatrix<double> &a){\n",
    "  double det;\n",
    "  AGHMatrix<double> l(a.get_rows(), a.get_cols(), 0.0);\n",
    "  AGHMatrix<double> u(a.get_rows(), a.get_cols(), 0.0);\n",
    "  LU_double(a, l, u);\n",
    "\n",
    "  det =  diagonal_det(u);\n",
    "  return det;\n",
    "}"
   ]
  },
  {
   "cell_type": "code",
   "execution_count": 6,
   "metadata": {},
   "outputs": [],
   "source": [
    "//3\n",
    "template<typename T>\n",
    "void AGHMatrix<T>::swap(unsigned i, unsigned j, unsigned k, unsigned l){\n",
    "    T temp;\n",
    "    temp = matrix[i][j];\n",
    "    matrix[i][j] = matrix[k][l];\n",
    "    matrix[k][l] = temp;\n",
    "}\n"
   ]
  },
  {
   "cell_type": "code",
   "execution_count": 7,
   "metadata": {},
   "outputs": [],
   "source": [
    "template<typename T>\n",
    "void AGHMatrix<T>::transpose(void){\n",
    "    // if(rows != cols){\n",
    "    //     std::cout << \"macierz musi byc kwadratowa\" << std::endl;\n",
    "    //     exit(-1);\n",
    "    // }\n",
    "        for (int i = 0; i < rows; i++){\n",
    "            for (int j = i+1; j < rows; j++){\n",
    "                swap(i, j, j, i);               \n",
    "            }\n",
    "        }\n",
    "\n",
    "\n",
    "        \n",
    "}"
   ]
  },
  {
   "cell_type": "markdown",
   "metadata": {},
   "source": [
    "**Zadanie 3**  Proszę zaimplementować algorytm faktoryzacji LU macierzy (można to zrobić przy użyciu kodu dostarczonego do laboratorium lub stworzyć własną strukturę macierzy i na niej działać). Algorytm przetestować na przykładzie z [wikipedii](https://pl.wikipedia.org/wiki/Metoda_LU) lub korzystając z poniższego kodu.  "
   ]
  },
  {
   "cell_type": "code",
   "execution_count": 8,
   "metadata": {},
   "outputs": [],
   "source": [
    "void LU_double(AGHMatrix<double> &a, AGHMatrix<double> &l, AGHMatrix<double> &u){\n",
    "  int n;\n",
    "  n = a.get_cols();\n",
    "\n",
    "\n",
    "  for(int k = 0; k < n; k++){\n",
    "    l(k,k) = 1;\n",
    "    for(int j = k; j < n; j++){\n",
    "      double sum = 0;\n",
    "      for(int s = 0; s < k; s++) sum += l(k,s)*u(s,j);\n",
    "\n",
    "      u(k,j) = a(k,j) - sum;\n",
    "      }for(int i = k; i < n; i++){\n",
    "\n",
    "          double sum = 0;\n",
    "          for(int s= 0; s < k; s++) sum += l(i,s)*u(s,k);\n",
    "\n",
    "          l(i,k) = (a(i,k) - sum) / u(k,k);\n",
    "\n",
    "      }\n",
    "    \n",
    "  }\n",
    "}\n"
   ]
  },
  {
   "cell_type": "code",
   "execution_count": 9,
   "metadata": {},
   "outputs": [
    {
     "name": "stdout",
     "output_type": "stream",
     "text": [
      "5, 3, 2, \n",
      "1, 2, 0, \n",
      "3, 0, 4, \n",
      "\n",
      "\n",
      "1, 0, 0, \n",
      "0.2, 1, 0, \n",
      "0.6, -1.28571, 1, \n",
      "\n",
      "\n",
      "5, 3, 2, \n",
      "0, 1.4, -0.4, \n",
      "0, 0, 2.28571, \n",
      "\n",
      "\n"
     ]
    }
   ],
   "source": [
    "// initialize matrix using specified values\n",
    "std::vector<std::vector<double>> init_LU {{ 5.0, 3.0, 2.0 }, \n",
    "                                          { 1.0, 2.0, 0.0 }, \n",
    "                                          { 3.0, 0.0, 4.0 }};\n",
    "\n",
    "// Jeśli się korzysta z implementacji laboratoryjnej\n",
    "AGHMatrix<double> mat4(init_LU);\n",
    "\n",
    "AGHMatrix<double> l(mat4.get_rows(), mat4.get_cols(), 0.0);\n",
    "AGHMatrix<double> u(mat4.get_rows(), mat4.get_cols(), 0.0);\n",
    "\n",
    "LU_double(mat4, l, u);\n",
    "\n",
    "std::cout << mat4 << std::endl << l << std::endl << u << std::endl;\n"
   ]
  },
  {
   "cell_type": "markdown",
   "metadata": {},
   "source": [
    "**Zadanie 4**  Proszę zaimplementować algorytm faktoryzacji Cholesky'ego macierzy. Jego test można przeprowadzić analogicznie do poprzedniego zadania i oprzeć o przykład z [wikipedii](https://en.wikipedia.org/wiki/Cholesky_decomposition). Po zakończeniu tego zadania proszę porównać oba algorytmy faktoryzacyjne i opisać różnice w ich konstrukcji."
   ]
  },
  {
   "cell_type": "markdown",
   "metadata": {},
   "source": [
    "Macierz dowolnego typu można rozłożyć na iloczyn dolnej i górnej macierzy trójkątnej postaci A = L U stosując metodę LU. Rozkład Cholesky'ego można stosować jedynie w przypadku macierzy symetrycznych i dodatnio określonych. Rozkład Cholesky'ego jest również mniej poddatny na błędy wynikające z arytmetyki float."
   ]
  },
  {
   "cell_type": "code",
   "execution_count": 10,
   "metadata": {},
   "outputs": [],
   "source": [
    "void cholesky_decomposition(AGHMatrix<double> &a, AGHMatrix<double> &l){\n",
    "  int n;\n",
    "  n = a.get_cols();\n",
    "\n",
    "\n",
    "  for(int k = 0; k < n; k++){\n",
    "    double sum = 0;\n",
    "    for(int s = 0; s < k; s++) sum += (l(k,s))*(l(k,s));\n",
    "    l(k,k) = sqrt(a(k,k) - sum);\n",
    "\n",
    "    for(int i = k + 1; i < n; i++){\n",
    "      double sum = 0;\n",
    "      for(int s = 0; s < k; s++) sum += l(i,s)*l(k,s);\n",
    "      l(i,k) = (a(i,k) - sum)/l(k,k);\n",
    "    }\n",
    "  }\n",
    "\n",
    "\n",
    "}\n",
    "\n"
   ]
  },
  {
   "cell_type": "code",
   "execution_count": 11,
   "metadata": {},
   "outputs": [],
   "source": [
    "double Cholesky_det(AGHMatrix<double> &a){\n",
    "  double det;\n",
    "  AGHMatrix<double> l(a.get_rows(), a.get_cols(), 0.0);\n",
    "  \n",
    "  cholesky_decomposition(a, l);\n",
    "  det =  diagonal_det(l);\n",
    "  return det*det;\n",
    "}"
   ]
  },
  {
   "cell_type": "code",
   "execution_count": 12,
   "metadata": {},
   "outputs": [
    {
     "name": "stdout",
     "output_type": "stream",
     "text": [
      "4, 12, -16, \n",
      "12, 37, -43, \n",
      "-16, -43, 98, \n",
      "\n",
      "\n",
      "2, 0, 0, \n",
      "6, 1, 0, \n",
      "-8, 5, 3, \n",
      "\n",
      "\n"
     ]
    }
   ],
   "source": [
    "// initialize matrix using specified values\n",
    "std::vector<std::vector<double>> init_cholesky {{ 4.0, 12.0, -16.0 }, \n",
    "                                                { 12.0, 37.0, -43.0 }, \n",
    "                                                { -16.0, -43.0, 98.0 }}; // tu był błąd -6 zamiast -16\n",
    "\n",
    "// Jeśli się korzysta z implementacji laboratoryjnej\n",
    "AGHMatrix<double> a(init_cholesky);\n",
    "\n",
    "AGHMatrix<double> l2(a.get_rows(), a.get_cols(), 0.0);\n",
    "cholesky_decomposition(a, l2);\n",
    "\n",
    "std::cout << a << std::endl << l2 << std::endl;\n"
   ]
  },
  {
   "cell_type": "markdown",
   "metadata": {},
   "source": [
    "**Zadanie 5**  Proszę napisać funkcję (lub klasę wraz z metodami), która realizuje eliminacje Gaussa. Proszę starannie opisać kod, który ją realizuje. Test algorytmu jest najłatwiej zrealizować przy pomocy języka python oraz pakietu numpy (poniższy kod). \n",
    "\n",
    "(*) Dla chętnych - można napisać prosty TestCase, który porówna dwie macierze. Poprawną najlepiej znalaźć przy pomocy pythona. Środowisk testowych w C++ jest kilka - ja polecam GoogleTest.   \n"
   ]
  },
  {
   "cell_type": "code",
   "execution_count": 13,
   "metadata": {},
   "outputs": [],
   "source": [
    "auto Gauss_alg(AGHMatrix<double> &a){\n",
    "  double eps = 1e-12;\n",
    "  int rows = a.get_rows();\n",
    "  int cols = a.get_cols();\n",
    "  for(int i = 0; i < rows; i++){ // dla każdego wiersza\n",
    "    for(int j = i + 1; j < rows; j++){ // dla każdego większego wiersza\n",
    "      if( fabs(a(i,i)) < eps){ // jeśli byłoby dzielenie przez zero\n",
    "        std::cout << \"błąd\";\n",
    "        exit(-1);\n",
    "      }\n",
    "      //obliczamy współczynnik przez który przemnożymy wszystkie kolumny wiersza, aby w \"pierwszej\" pojawiło się zero\n",
    "      double m = -a(j,i)/ a(i,i);\n",
    "      for(int k = i; k < cols; k++){\n",
    "        a(j,k) += m * a(i,k); // dodajemy do całego wiersza i-ty wiersz przemnożony przez współczynnik\n",
    "      }\n",
    "    }\n",
    "\n",
    "  }\n",
    "  return a;\n",
    "}"
   ]
  },
  {
   "cell_type": "code",
   "execution_count": 15,
   "metadata": {},
   "outputs": [],
   "source": [
    "auto gauss_solve(AGHMatrix<double> &a){\n",
    "  Gauss_alg(a);\n",
    "  double eps = 1e-12;\n",
    "  int n = a.get_rows();\n",
    "  AGHMatrix<double> X(a.get_rows(), 1, 0.0);\n",
    "\n",
    "  for(int i = n-1; i >= 0; i--){ // zaczynamy od konca\n",
    "    double s = a(i,n);\n",
    "    for(int j = n - 1; j >= i + 1; j--){ // liczenie rożnicy dla wszystkich wierszow w dol\n",
    "      s -= a(i,j) * X(j,0);\n",
    "    }\n",
    "    if(fabs(a(i,i)) < eps) exit(-1); // na wypadek dzielenia przez zero\n",
    "    X(i, 0) = s / a(i,i); // obliczanie wartosci niewiadomej\n",
    "    \n",
    "  }\n",
    "  return X;\n",
    "\n",
    "}"
   ]
  },
  {
   "cell_type": "code",
   "execution_count": 16,
   "metadata": {},
   "outputs": [
    {
     "name": "stdout",
     "output_type": "stream",
     "text": [
      "\n",
      "0.216025, \n",
      "-0.00791511, \n",
      "0.635243, \n",
      "0.746174, \n",
      "\n"
     ]
    },
    {
     "data": {
      "text/plain": [
       "@0x7f99f50cab40"
      ]
     },
     "execution_count": 16,
     "metadata": {},
     "output_type": "execute_result"
    }
   ],
   "source": [
    "std::vector<std::vector<double>> gauss_check{{0.0001, -5.0300, 5.8090, 7.8320, 9.5740},\n",
    "           {2.2660, 1.9950,  1.2120, 8.0080, 7.2190},\n",
    "           {8.8500, 5.6810,  4.5520, 1.3020, 5.7300},\n",
    "           {6.7750, -2.253,  2.9080, 3.9700, 6.2910}};\n",
    "\n",
    "AGHMatrix<double> mat6(gauss_check);\n",
    "\n",
    "std::cout << std::endl << gauss_solve(mat6);\n",
    "\n",
    "// python solver result:\n",
    "// [[ 0.21602477]\n",
    "//  [-0.00791511]\n",
    "//  [ 0.63524333]\n",
    "//  [ 0.74617428]]\n",
    "\n",
    "// A = np.matrix([[0.0001, -5.0300, 5.8090, 7.8320],\n",
    "//                [2.2660, 1.9950,  1.2120, 8.0080],\n",
    "//                [8.8500, 5.6810,  4.5520, 1.3020],\n",
    "//                [6.7750, -2.253,  2.9080, 3.9700]])\n",
    "\n",
    "// b = np.matrix([9.5740, 7.2190, 5.7300, 6.2910]).transpose()\n",
    "\n",
    "// x = np.linalg.solve(A, b)\n",
    "\n",
    "// Checking\n",
    "// np.allclose(np.dot(A, x), b)"
   ]
  },
  {
   "cell_type": "markdown",
   "metadata": {},
   "source": [
    "**Zadanie 6** Implementacja metody Jackobiego - tworzenie i wymagania analogicznie do Zad.4."
   ]
  },
  {
   "cell_type": "code",
   "execution_count": 18,
   "metadata": {},
   "outputs": [
    {
     "name": "stdout",
     "output_type": "stream",
     "text": [
      "\n",
      "7.11111, 7.11111, \n",
      "-3.22222, -3.22222, \n",
      "\n"
     ]
    },
    {
     "data": {
      "text/plain": [
       "@0x7f99f50cab40"
      ]
     },
     "execution_count": 18,
     "metadata": {},
     "output_type": "execute_result"
    }
   ],
   "source": [
    "auto Jacoby(AGHMatrix<double> &a, int param){\n",
    "\n",
    "  AGHMatrix<double> XX(a.get_rows(), 2, 0.0);\n",
    "\n",
    "  int n = a.get_rows();\n",
    "  int m = a.get_cols();\n",
    "\n",
    "  for(int k = 0; k < param; k++){\n",
    "    for(int i = 0; i < n; i++){\n",
    "      double sum = 0;\n",
    "      for(int s = 0; s < n; s++){\n",
    "        if(i != s){\n",
    "          sum += a(i,s) * XX(s,0);\n",
    "        }\n",
    "      }\n",
    "      XX(i,1) = (1.0/a(i,i)) * ( a(i,m-1) - sum);\n",
    "    }\n",
    "    for (int i = 0; i < n; i++)\n",
    "      XX(i,0) = XX(i,1);\n",
    "  }\n",
    "\n",
    "  return XX;\n",
    "\n",
    "}\n",
    "\n",
    "std::vector<std::vector<double>> jacoby_check{{2,1,11},{5,7,13}};\n",
    "AGHMatrix<double> mat7(jacoby_check);\n",
    "\n",
    "std::cout << std::endl << Jacoby(mat7, 100);\n",
    "\n"
   ]
  },
  {
   "cell_type": "code",
   "execution_count": null,
   "metadata": {},
   "outputs": [],
   "source": []
  }
 ],
 "metadata": {
  "kernelspec": {
   "display_name": "C++14",
   "language": "C++14",
   "name": "xcpp14"
  },
  "language_info": {
   "codemirror_mode": "text/x-c++src",
   "file_extension": ".cpp",
   "mimetype": "text/x-c++src",
   "name": "c++",
   "version": "14"
  }
 },
 "nbformat": 4,
 "nbformat_minor": 2
}
