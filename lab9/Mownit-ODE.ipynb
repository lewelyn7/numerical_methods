{
 "cells": [
  {
   "cell_type": "markdown",
   "metadata": {},
   "source": [
    "# Równania różniczkowe zwyczajne\n"
   ]
  },
  {
   "cell_type": "markdown",
   "metadata": {},
   "source": [
    "<h3> Przydatne linki: </h3>\n",
    "\n",
    "* Układ Lorenza: https://en.wikipedia.org/wiki/Lorenz_system\n",
    "* Metoda Eulera: http://tutorial.math.lamar.edu/Classes/DE/EulersMethod.aspx\n",
    "* Backward Euler: https://en.wikipedia.org/wiki/Backward_Euler_method\n",
    "* Metoda Rungego-Kutty (4-th order): https://en.wikipedia.org/wiki/Runge–Kutta_methods#Common_fourth-order_Runge.E2.80.93Kutta_method \n",
    "* boost-odeint : https://www.boost.org/doc/libs/1_66_0/libs/numeric/odeint/doc/html/index.html\n",
    " \n",
    "<h3> Krótki wstęp </h3>\n",
    "\n",
    "Mamy następujący układ trzech ODE:\n",
    "\n",
    "${\\begin{cases}{\\dot  x}=\\sigma y-\\sigma x\\\\{\\dot  y}=-xz+rx-y\\\\{\\dot  z}=xy-bz\\end{cases}}$\n",
    " \n",
    "Układ Lorenza (bo takowy widnieje powyżej) został przez niego stworzony z myślą modelowania konwekcji termicznej w atmosferze. To co jest ciekawe w tym układzie i co będzie Nas interesowało na tych zajęciach to fakt, że dla pewnego zbioru parametrów układ ten zachowuje się chaotycznie. Wykres zmiennych w przestrzeni fazowej przedstawia tzw. atraktor Lorenza (poniżej).\n",
    "\n",
    "![image.png](https://upload.wikimedia.org/wikipedia/commons/2/25/LorenzAttractor.png)\n",
    "\n",
    "Jak łatwo się domyślić - celem tego laboratorium będzie implementacja metod rozwiązywania ODE, które umożliwią wizualizacje powyższego atraktora. \n",
    "\n",
    "Opisy poszczególnych metod znajdują się w linkach podanych w pierwszej sekcji instrukcji oraz w wykładach (nie streszczałem Wam tego, gdyż w linkach podanych przeze mnie jest dość szczegółowo - bez zbędnych wywodów matematycznych etc.)"
   ]
  },
  {
   "cell_type": "markdown",
   "metadata": {},
   "source": [
    "<h3> Zadania </h3>\n"
   ]
  },
  {
   "cell_type": "markdown",
   "metadata": {},
   "source": [
    "**Zadanie 1**\n",
    "Proszę zapoznać się z materiałami załączonymi do tego laboratorium (zwłaszcza z opisami metod!).\n",
    "\n",
    "**Zadanie 2** \n",
    "Proszę wykonać implementacje następujących metod rozwiązywania równań różniczkowych:\n",
    "- metoda Eulera,\n",
    "- modyfikacja metody Eulera (ang. Backward Euler method),\n",
    "- metoda Rungego-Kutty 1 rzędu (It's a trap!),\n",
    "- metoda Rungego-Kutty 2 rzędu (ang. midpoint method),\n",
    "- metoda Rungego-Kutty 4 rzędu,\n",
    "\n",
    "Za ich pomocą rozwiązać opisany powyżej układ równań. Wynik wyliczeń kolejnych kroków proszę przedstawić na wykresie (powinno się otrzymać powyższy atraktor). Środowisko i język tworzenia wykresu jest dowolny.\n",
    "\n",
    "**Zadanie 3** \n",
    "Proszę dokonać porównania **teoretycznego** wszystkich powyższych metod. \n",
    "\n",
    "**Zadanie 4** \n",
    "Dane jest równanie różniczkowe (zagadnienie początkowe):\n",
    "\n",
    "$y^{'} - kmysin(mx) = k^{2}msin(mx)cos(mx),  \\hspace{1cm} y(x_{0})=a$\n",
    "\n",
    "$x_{0}, x{k}, m, k$ - parametry zadawane, $a$ - wyliczane z rozwiązania dokładnego (poniżej).\n",
    "Znaleźć rozwiązanie tego zagadnienia y(x) w przedziale $[x_{0}, x_{k}]$ metodą Eulera oraz metodą Rungego-Kutty. Eksperyment przeprowadzić dla różnej ilości kroków.\n",
    "\n",
    "Porównać otrzymane rozwiązanie z rozwiązaniem dokładnym: $y(x) = e^{-kcos(mx)} - kcos(mx) + 1$\n",
    "\n",
    "Stosownie przedstaw wyniki wybranych rozwiązań.\n",
    "\n",
    "**Zadanie 5** (dla chętnych, żeby poznać bibliotekę boost)\n",
    "Proszę rozwiązać układ Lorenza korzystając z funkcjonalności biblioteki **boost** (oficjalna dokumentacja i opis metod - https://www.boost.org).\n"
   ]
  },
  {
   "cell_type": "markdown",
   "metadata": {},
   "source": [
    "### zad2"
   ]
  },
  {
   "cell_type": "code",
   "execution_count": null,
   "metadata": {},
   "outputs": [],
   "source": [
    "vector<double> Euler_method(vector<double> mesh, function<double(double, double)> ftu, double u0){\n",
    "    int n = mesh.size();\n",
    "    double step = mesh[1] - mesh[0];\n",
    "    vector<double> result(n);\n",
    "    result[0] = u0;\n",
    "    for(int i = 1; i < n; i++){\n",
    "        result[i] = result[i-1] + ftu(mesh[i-1], result[i-1])*step;\n",
    "    }\n",
    "    return result;\n",
    "}"
   ]
  },
  {
   "cell_type": "code",
   "execution_count": null,
   "metadata": {},
   "outputs": [],
   "source": [
    "vector<double> backward_Euler_method(vector<double> mesh, function<double(double, double)> ftu, double u0){\n",
    "    int n = mesh.size();\n",
    "    double step = mesh[1] - mesh[0];\n",
    "    vector<double> result(n);\n",
    "    result[0] = u0;\n",
    "    for(int i = 1; i < n; i++){\n",
    "        result[i] = result[i-1];\n",
    "        result[i] = result[i-1] + ftu(mesh[i], result[i])*step;\n",
    "    }\n",
    "    return result;\n",
    "}"
   ]
  },
  {
   "cell_type": "markdown",
   "metadata": {},
   "source": [
    "#### metoda Rungego-Kuty 1-rzędu to metoda Eulera"
   ]
  },
  {
   "cell_type": "code",
   "execution_count": null,
   "metadata": {},
   "outputs": [],
   "source": [
    "vector<double> Rung_Kuta_2(vector<double> mesh, function<double(double, double)> ftu, double u0){\n",
    "    int n = mesh.size();\n",
    "    double step = mesh[1] - mesh[0];\n",
    "    vector<double> result(n);\n",
    "    double c1 = 0;\n",
    "    double c2 = 1;\n",
    "    auto k1 = [ftu](double t, double u, double h){ return ftu(t, u);};\n",
    "    auto k2 = [ftu](double t, double u, double h){ return ftu(t + 0.5*h, u + 0.5*h*ftu(t, u));};\n",
    "\n",
    "    result[0] = u0;\n",
    "    for(int i = 1; i < n; i++){\n",
    "        result[i] = result[i-1] + step*(c1*k1(mesh[i-1], result[i-1], step) + c2*k2(mesh[i-1], result[i-1], step));\n",
    "    }\n",
    "    return result;\n",
    "}"
   ]
  },
  {
   "cell_type": "code",
   "execution_count": null,
   "metadata": {},
   "outputs": [],
   "source": [
    "vector<double> Rung_Kuta_4(vector<double> mesh, function<double(double, double)> ftu, double u0){\n",
    "    int n = mesh.size();\n",
    "    double step = mesh[1] - mesh[0];\n",
    "    vector<double> result(n);\n",
    "    double c1 = 1;\n",
    "    double c2 = 2;\n",
    "    double c3 = 2;\n",
    "    double c4 = 1;\n",
    "    auto k1 = [ftu](double t, double u, double h){ return ftu(t, u);};\n",
    "    auto k2 = [ftu, k1](double t, double u, double h){ return ftu(t + 0.5*h, u + 0.5*h*k1(t, u, h));};\n",
    "    auto k3 = [ftu, k2](double t, double u, double h){ return ftu(t + 0.5*h, u + 0.5*h*k2(t, u, h));};\n",
    "    auto k4 = [ftu, k3](double t, double u, double h){ return ftu(t + h, u + h*k3(t, u, h));};\n",
    "\n",
    "    result[0] = u0;\n",
    "    for(int i = 1; i < n; i++){\n",
    "        result[i] = result[i - 1] + step / 6.0 * (c1 * k1(mesh[i - 1], result[i - 1], step) + c2 * k2(mesh[i - 1], result[i - 1], step) + c3 * k3(mesh[i - 1], result[i - 1], step) + c4 * k4(mesh[i - 1], result[i - 1], step));\n",
    "    }\n",
    "    return result;\n",
    "}"
   ]
  },
  {
   "cell_type": "markdown",
   "metadata": {},
   "source": [
    "### zad.3\n",
    "\n",
    "Metoda Eulera jest najprostszą z metod sprowadza się do skorzystania ze sposobu analitycznego rozwiązania równania i obliczenia całki metodą prostokątów. Metoda Rungego-Kuty bazuje na rozwinięciu funkcji w szereg Taylora i fakcie, że w rozwinięciu występuje pochodna funkcji wyjściowej, której wartość jest podana w równaniu. w metodzie Eulera dokładność obliczeń zależy od kroku liczenia całki. W metodzie Rungego-Kuty wpływ ma również ilość składników sumy z szeregu Taylora, które weźmiemy pod uwagę przy obliczeniach."
   ]
  },
  {
   "cell_type": "markdown",
   "metadata": {},
   "source": [
    "### zad.4"
   ]
  },
  {
   "cell_type": "code",
   "execution_count": null,
   "metadata": {},
   "outputs": [],
   "source": [
    "void test(){\n",
    "    double k = 1.0;\n",
    "    double m = 1.0;\n",
    "    double x0 = 0;\n",
    "    double xk = 18.0;\n",
    "\n",
    "    auto ftu = bind(ftukm, _1, _2, k ,m);\n",
    "    auto exact_sol = bind(exact_ftukm, k, m, _1);\n",
    "\n",
    "    double a = exact_sol(x0);\n",
    "\n",
    "\n",
    "    vector<int> n = {10, 20, 40, 50, 100, 300, 500, 1000};\n",
    "    for(int i = 0; i < n.size(); i++){\n",
    "        vector<double> mesh = generate_mesh(x0, xk, n[i]);\n",
    "        vector<double> resEuler = Euler_method(mesh, ftu, a);\n",
    "        vector<double> resRG = Rung_Kuta_4(mesh, ftu, a);\n",
    "        save_result(mesh, resEuler, \"euler_\" + to_string(n[i]) + \".txt\");\n",
    "        save_result(mesh, resRG, \"rung_kuta_\" + to_string(n[i]) + \".txt\");\n",
    "    }\n",
    "\n",
    "    vector<double> mesh = generate_mesh(x0, xk, 200);\n",
    "    vector<double> res_exact(mesh.size());\n",
    "    for(int i = 0; i < mesh.size(); i++) res_exact[i] = exact_sol(mesh[i]);\n",
    "    save_result(mesh, res_exact, \"exact_values.txt\");\n",
    "    \n",
    "}"
   ]
  },
  {
   "cell_type": "markdown",
   "metadata": {},
   "source": [
    "#### Wyniki dla kolejnych ilości kroków:\n",
    "\n",
    "![](img/1.png)  \n",
    "![](img/2.png)  \n",
    "![](img/3.png)  \n",
    "![](img/4.png)  \n",
    "![](img/5.png)  \n",
    "![](img/6.png)  \n",
    "\n",
    "#  \n",
    "Widać, że metoda Rungego-Kuty już dla 100 kroków pokazuje całkiem dokładny wynik, natomiast metoda Eulera dopiero dla 1000 kroków zbliża się do poprawnego rozwiązania"
   ]
  },
  {
   "cell_type": "code",
   "execution_count": null,
   "metadata": {},
   "outputs": [],
   "source": []
  }
 ],
 "metadata": {
  "kernelspec": {
   "display_name": "C++14",
   "language": "C++14",
   "name": "xeus-cling-cpp14"
  },
  "language_info": {
   "codemirror_mode": "text/x-c++src",
   "file_extension": ".cpp",
   "mimetype": "text/x-c++src",
   "name": "c++",
   "version": "-std=c++14"
  }
 },
 "nbformat": 4,
 "nbformat_minor": 2
}
