{
 "cells": [
  {
   "cell_type": "markdown",
   "metadata": {},
   "source": [
    "# MOwNiT lab7 - kwadratury oraz metody Monte Carlo"
   ]
  },
  {
   "cell_type": "markdown",
   "metadata": {},
   "source": [
    "<h3> Przydatne linki: </h3>"
   ]
  },
  {
   "cell_type": "markdown",
   "metadata": {},
   "source": [
    "- CPP: https://en.cppreference.com/w/\n",
    "- Całkowanie numeryczne 1: https://eduinf.waw.pl/inf/alg/004_int/0004.php\n",
    "- Całkowanie numeryczne 2: https://pl.wikipedia.org/wiki/Całkowanie_numeryczne\n",
    "- Monte Carlo: https://www.scratchapixel.com/lessons/mathematics-physics-for-computer-graphics/monte-carlo-methods-in-practice/monte-carlo-methods\n"
   ]
  },
  {
   "cell_type": "markdown",
   "metadata": {},
   "source": [
    "<h3> Wstęp teoretyczny</h3>"
   ]
  },
  {
   "cell_type": "markdown",
   "metadata": {},
   "source": [
    "<h3>Kwadratury:</h3>\n",
    "\n",
    "**Metoda prostokątów**\n",
    "\n",
    "W metodzie tej korzystamy z definicji całki oznaczonej Riemanna (czyli wartość całki interpretowana jest jako suma pól obszarów pod wykresem krzywej w zadanym przedziale całkowania $<x_p, x_k>$). Sumę tę przybliżamy przy pomocy sumy pól odpowiednio dobranych prostokątów. Sposób postępowania jest następujący:\n",
    "- przedział całkowania dzielimy na n równoodległych punktów wedle wzoru:\n",
    "$x_i = x_p + \\frac{i}{n}(x_k - x_p)$\n",
    "- obliczamy odległość między dwoma sąsiednimi punktami : $dx = \\frac{x_k - x_p}{n} $ \n",
    "- dla każdego punktu obliczamy wartość funkcji $f_i = f(x_i)$,\n",
    "- obliczamy sumę iloczynów wyznaczonych wartości funkcji: $S = dx(f_1+f_2+...)$\n",
    "\n",
    "Otrzymana suma jest przybliżoną wartością całki oznaczonej funkcji $f(x)$ w przedziale $<x_p,x_k>$: ${\\displaystyle \\int \\limits _{x_{p}}^{x_{k}}f(x)dx \\approx \\frac{x_k - x_p}{n}\\sum _{i=1}^{n}f(x_p + i \\frac{x_k - x_p}{n})}$\n",
    "![image.png](https://eduinf.waw.pl/inf/alg/004_int/images/002_01.gif)\n",
    "\n",
    "**Metoda trapezów**\n",
    "\n",
    "Metoda prostokątów nie jest zbyt dokładna, ponieważ pola użytych w niej prostokątów źle odwzorowują pole pod krzywą. Dużo lepszym rozwiązaniem jest zastosowanie zamiast nich trapezów o wysokości dx i podstawach równych odpowiednio wartości funkcji w punktach krańcowych. Działa analogicznie do metody prostokątów (z jedną różnicą, którą dość łatwo zauważyć) - należy wyliczyć pole trapezu, a nie prostokąta. Kroki postępowania są analogiczne. \n",
    "\n",
    "Ostatecznie otrzymać powinniśmy: ${\\displaystyle \\int \\limits _{x_{p}}^{x_{k}}f(x)dx \\approx \\frac{x_k - x_p}{n}[\\sum _{i=1}^{n-1}f(x_p + i \\frac{x_k - x_p}{n} + \\frac{f(x_p) + f(x_k)}{2})]}$\n",
    "\n",
    "![image2.png](https://eduinf.waw.pl/inf/alg/004_int/images/003_01.gif)\n",
    "\n",
    "**Metoda Simpsona**\n",
    "\n",
    "Najdokładniejsza z opisanych dotąd metod. Jako przybliżenie stosujemy parabolę. Kroki postępowania są następujące:\n",
    "- przedział całkowania dzielimy na n+1 równoodległych punktów wedle wzoru:\n",
    "$x_i = x_p + \\frac{i}{n}(x_k - x_p)$\n",
    "- dla sąsiednich punktów wyznaczamy punkt środkowy $t_i$\\: $t_i = \\frac{x_{i-1} + x_i}{2} $ \n",
    "- obliczamy odległość między punktami. $dx = \\frac{x_k-x_p}{n}$,\n",
    "- dla każdego punktu obliczamy wartość funkcji $f_i = f(x_i)$,\n",
    "- dla każdego podprzedziału $<x_{i-1},x_{i}>$ przybliżamy funkcję za pomocą paraboli g(x),\n",
    "\n",
    "Całość sposobu poradzenia sobie z polem pod parabolą opisany jest [tutaj](https://eduinf.waw.pl/inf/alg/004_int/0004.php)\n",
    "\n",
    "![image3.png](https://eduinf.waw.pl/inf/alg/004_int/images/004_01.gif)\n",
    "\n",
    "**Metody Monte Carlo**\n",
    "\n",
    "Metody te służą do numerycznego rozwiązywania problemów matematycznych przy wykorzystywaniu losowego próbkowania (lub przez symulacje zmiennej losowej). Wszystkie korzystają z pomysłu losowania zmiennej, która następnie posłuży znalezieniu rozwiązania. Problemy MC można podzielić na dwie zasadnicze kategorie:\n",
    "- symulacje,\n",
    "- całkowanie, \n",
    "\n",
    "**Zadania**\n",
    "1. Proszę zaimplementować metodę prostokątów, trapezów oraz Simpsona obliczania całki numerycznej. Proszę zilustrować na wykresie jakość wyników (dla rozwiązań kilku dowolnych całek - wynik najlepiej sprawdzić używając języka mathematica). Dokonać stosownej analizy wyników.\n",
    "2. Przenalizować tutorial dotyczący metod [Monte Carlo](https://www.scratchapixel.com/lessons/mathematics-physics-for-computer-graphics/monte-carlo-methods-in-practice/monte-carlo-methods) - zwłaszcza rozdział \"Methods\" oraz \"Integration\", polecam również \"Practical example\". \n",
    "3. Proszę wykorzystać metodę Monte Carlo do obliczenia wartości liczby PI. Dokonać stosownej analizy wyników.\n",
    "4. Proszę zaimplementować metodę Monte Carlo (na bazie tutoriala z Zadania 4) obliczania całki numerycznej. Porównać empirycznie tą metodę z pozostałymi. Dokonać stosownej analizy wyników.\n",
    "\n",
    "5. Dla chętnych: Oddtworzyć zadanie praktyczne z tutoriala dot. Monte Carlo (Rozdział : \"Practical example\"). Wykorzystać fragmenty kodu oraz przeanalizować zadanie.\n",
    "\n",
    "**Wskazówki:** \n",
    "1. Implementacje zrobić w wersji polimorficznej (interfejs całkowania ze stosownymi implementacjami metod wirtualnych). \n",
    "2. Metodę samego całkowania najlepiej zrobić w stylu (double, double, std::function) - końcówki przedziałów + lambda funkcji.\n"
   ]
  },
  {
   "cell_type": "markdown",
   "metadata": {},
   "source": [
    "**zad.1**"
   ]
  },
  {
   "cell_type": "code",
   "execution_count": null,
   "metadata": {},
   "outputs": [],
   "source": [
    "class IIntegrationEngine\n",
    "{\n",
    "    public:\n",
    "        virtual double integrate(double a, double b, std::function<double(double)> f) = 0;\n",
    "        virtual void set_precision(int n) {};\n",
    "};"
   ]
  },
  {
   "cell_type": "code",
   "execution_count": null,
   "metadata": {},
   "outputs": [],
   "source": [
    "class RectangleIntegration: public IIntegrationEngine\n",
    "{\n",
    "    private:\n",
    "        int n = 1;\n",
    "    public:\n",
    "        virtual double  integrate(double a, double b, std::function<double(double)> f)\n",
    "        {\n",
    "            std::vector<double> points;\n",
    "            points.resize(n);\n",
    "            for(int i = 0; i < n; i++){\n",
    "                points[i] = (a + ((double)i)/((double)n) * (b -a));\n",
    "            }\n",
    "\n",
    "            double dx = (b - a)/((double)n);\n",
    "            std::vector<double> values;\n",
    "            values.resize(n);\n",
    "            for(int i = 0; i < n; i++){\n",
    "                values[i] = (f(points[i]));\n",
    "            }\n",
    "            double sum = 0;\n",
    "            for(int i = 0; i < n; i++){\n",
    "                sum += values[i];\n",
    "            }\n",
    "            sum *= dx;\n",
    "            return sum;\n",
    "        }\n",
    "        virtual void set_precision(int x)\n",
    "        {\n",
    "            this->n = x;\n",
    "        }\n",
    "};\n"
   ]
  },
  {
   "cell_type": "code",
   "execution_count": null,
   "metadata": {},
   "outputs": [],
   "source": [
    "class TrapeziumIntegration: public IIntegrationEngine\n",
    "{\n",
    "    private:\n",
    "        int n = 1;\n",
    "    public:\n",
    "        virtual double  integrate(double a, double b, std::function<double(double)> f)\n",
    "        {\n",
    "            std::vector<double> points;\n",
    "            points.resize(n+1);\n",
    "            for(int i = 0; i <= n; i++){\n",
    "                points[i] = (a + ((double)i)/((double)n) * (b -a));\n",
    "            }\n",
    "\n",
    "            double dx = (b - a)/((double)n);\n",
    "            std::vector<double> values;\n",
    "            values.resize(n+1);\n",
    "            for(int i = 0; i <= n; i++){\n",
    "                values[i] = (f(points[i]));\n",
    "            }\n",
    "            double sum = 0;\n",
    "            for(int i = 0; i < n; i++){\n",
    "                sum += values[i] + values[i+1];\n",
    "            }\n",
    "            sum *= dx/2;\n",
    "            return sum;\n",
    "        }\n",
    "        virtual void set_precision(int x)\n",
    "        {\n",
    "            this->n = x;\n",
    "        }\n",
    "};"
   ]
  },
  {
   "cell_type": "code",
   "execution_count": null,
   "metadata": {},
   "outputs": [],
   "source": [
    "class SimpsonIntegration: public IIntegrationEngine\n",
    "{\n",
    "    private:\n",
    "        int n = 1;\n",
    "    public:\n",
    "        virtual double  integrate(double a, double b, std::function<double(double)> f)\n",
    "        {\n",
    "            std::vector<double> points;\n",
    "            points.resize(n+1);\n",
    "            for(int i = 0; i <= n; i++){\n",
    "                points[i] = (a + ((double)i)/((double)n) * (b -a));\n",
    "            }\n",
    "\n",
    "            std::vector<double> t_points;\n",
    "            t_points.resize(n);\n",
    "            for(int i = 0; i < n; i++){\n",
    "                t_points[i] = (points[i+1] + points[i])/2;\n",
    "            }\n",
    "            double dx = (b - a)/((double)n);\n",
    "            std::vector<double> values;\n",
    "            values.resize(n+1);\n",
    "            for(int i = 0; i <= n; i++){\n",
    "                values[i] = (f(points[i]));\n",
    "            }\n",
    "            std::vector<double> t_values;\n",
    "            t_values.resize(n);\n",
    "            for(int i = 0; i < n; i++){\n",
    "                t_values[i] = (f(t_points[i]));\n",
    "            }\n",
    "            double sum = values[0] + values[n];\n",
    "            double partial_sum1 = 0;\n",
    "            for(int i = 1; i < n; i++){\n",
    "                partial_sum1 += values[i];\n",
    "            }\n",
    "            double partial_sum2 = 0;\n",
    "            for(int i = 0; i < n; i++){\n",
    "                partial_sum2 += t_values[i];\n",
    "            }\n",
    "\n",
    "            sum = (dx/6.0)*(sum + 2.0*partial_sum1 + 4.0*partial_sum2);\n",
    "            return sum;\n",
    "        }\n",
    "        virtual void set_precision(int x)\n",
    "        {\n",
    "            this->n = x;\n",
    "        }\n",
    "};"
   ]
  },
  {
   "cell_type": "code",
   "execution_count": null,
   "metadata": {},
   "outputs": [],
   "source": [
    "void make_tests(){\n",
    "    std::function<double(double)> fs[3];\n",
    "    fs[0] = [](double x){ return exp(x);};\n",
    "    fs[1] = [](double x){ return sin(x*x*x);};\n",
    "    fs[2] = [](double x){ return log(x)*x*x;};\n",
    "    double ab[3][2] = {\n",
    "        {1, 3},\n",
    "        {1, 3},\n",
    "        {1, 3}\n",
    "    };\n",
    "    double exact_values[3] = {17.367, 0.222579, 6.9986};\n",
    "\n",
    "\n",
    "\n",
    "    RectangleIntegration rect;\n",
    "    TrapeziumIntegration trap;\n",
    "    SimpsonIntegration simp;\n",
    "\n",
    "\n",
    "    for(int i = 0; i < 3; i++){\n",
    "        std::ofstream frect;\n",
    "        std::ofstream ftrap;\n",
    "        std::ofstream fsimpson;\n",
    "        frect.open(\"rect\" + std::to_string(i) + \".txt\", std::ios::out);\n",
    "        ftrap.open(\"trap\" + std::to_string(i) + \".txt\", std::ios::out);\n",
    "        fsimpson.open(\"simpson\" + std::to_string(i) + \".txt\", std::ios::out);\n",
    "        for(int j = 5; j < 40; j+=5){\n",
    "            rect.set_precision(j);\n",
    "            trap.set_precision(j);\n",
    "            simp.set_precision(j);\n",
    "\n",
    "            frect << j << \" \" << my_abs(rect.integrate(ab[i][0], ab[i][1], fs[i]) - exact_values[i]) << std::endl;\n",
    "            ftrap << j << \" \" << my_abs(trap.integrate(ab[i][0], ab[i][1], fs[i]) - exact_values[i]) << std::endl;\n",
    "            fsimpson << j << \" \" << my_abs(simp.integrate(ab[i][0], ab[i][1], fs[i]) - exact_values[i]) << std::endl;\n",
    "        }\n",
    "        frect.close();\n",
    "        ftrap.close();\n",
    "        fsimpson.close();\n",
    "    }\n",
    "\n",
    "    //Monte Carlo test\n",
    "    std::vector<double> monte_values({100, 1000, 10000, 100000, 1000000, 10000000, 100000000});\n",
    "    MCIntegration mcinter;\n",
    "    for(int i = 0; i < 3; i++){\n",
    "        std::ofstream fmonte;\n",
    "        fmonte.open(\"monte\" + std::to_string(i) + \".txt\", std::ios::out);\n",
    "        \n",
    "        for(int j = 0; j < monte_values.size(); j++){\n",
    "            mcinter.set_precision(monte_values[j]);\n",
    "            fmonte << j << \" \" << my_abs(mcinter.integrate(ab[i][0], ab[i][1], fs[i]) - exact_values[i]) << std::endl;\n",
    "        }\n",
    "\n",
    "        fmonte.close();\n",
    "    }\n",
    "\n",
    "}"
   ]
  },
  {
   "cell_type": "markdown",
   "metadata": {},
   "source": [
    "### Na wykresach przedstawiony został błąd bezwzględny:"
   ]
  },
  {
   "cell_type": "markdown",
   "metadata": {},
   "source": [
    "* funkcja $e^x$ na przedziale $(1,3)$\n",
    "![](img/0.png)"
   ]
  },
  {
   "cell_type": "markdown",
   "metadata": {},
   "source": [
    "* funkcja $sin(x^3)$ na przedziale $(1,3)$\n",
    "![](img/1.png)"
   ]
  },
  {
   "cell_type": "markdown",
   "metadata": {},
   "source": [
    "* funkcja $\\log(x)*x^2$ na przedziale $(1,3)$\n",
    "![](img/2.png)"
   ]
  },
  {
   "cell_type": "markdown",
   "metadata": {},
   "source": [
    "Na wykresach widać, że zgodnie z założeniem Metoda prostąkotów daje najgorsze rezultaty, a metoda Simpsona najepsze. W zależności od rozpatrywanej funkcji różnica w błędzie jest, większa bądź mniejsza."
   ]
  },
  {
   "cell_type": "markdown",
   "metadata": {},
   "source": [
    "**zad.3**"
   ]
  },
  {
   "cell_type": "code",
   "execution_count": null,
   "metadata": {},
   "outputs": [],
   "source": [
    "double pi_MC(int N){ \n",
    "    std::default_random_engine gen; \n",
    "    std::uniform_real_distribution<double> distr(0,1.0); \n",
    "    int hits = 0;\n",
    "    for (int i = 0; i < N; i++) {  \n",
    "        double x = distr(gen); \n",
    "        double y = distr(gen); \n",
    "        double l = sqrt(x * x + y * y); \n",
    "        if (l <= 1) hits++; \n",
    "    } \n",
    "    double pi = double(hits) / (double)N * 4.0;\n",
    "    return pi; \n",
    "} "
   ]
  },
  {
   "cell_type": "code",
   "execution_count": null,
   "metadata": {},
   "outputs": [],
   "source": [
    "void pi_test(){\n",
    "    std::vector<double> values({10000, 100000, 1000000, 10000000, 100000000});\n",
    "    double exact_value = M_PI;\n",
    "    std::ofstream pif;\n",
    "    pif.open(\"pi.txt\", std::ios::out);\n",
    "    for(int i = 0; i < values.size(); i++){\n",
    "        double calc_pi = pi_MC(values[i]);\n",
    "        std::cout << values[i] << \"  \" << calc_pi << \"  \" << my_abs(calc_pi - exact_value) << std::endl; \n",
    "        pif << std::fixed << i << \"  \" << my_abs(calc_pi - exact_value) << std::endl; \n",
    "    }\n",
    "    pif.close();\n",
    "}"
   ]
  },
  {
   "cell_type": "markdown",
   "metadata": {},
   "source": [
    "### Wykres błędu bezwzględnego:"
   ]
  },
  {
   "cell_type": "markdown",
   "metadata": {},
   "source": [
    "![](img/3.png)"
   ]
  },
  {
   "cell_type": "markdown",
   "metadata": {},
   "source": [
    "widać że dopiero dla iteracji rzędu 10 000 000 otrzymujemy dokładność na poziomie 4 miejsca po przecinku"
   ]
  },
  {
   "cell_type": "markdown",
   "metadata": {},
   "source": [
    "**zad.4**"
   ]
  },
  {
   "cell_type": "code",
   "execution_count": null,
   "metadata": {},
   "outputs": [],
   "source": [
    "class MCIntegration: public IIntegrationEngine\n",
    "{\n",
    "    private:\n",
    "        int n = 1;\n",
    "    public:\n",
    "        virtual double  integrate(double a, double b, std::function<double(double)> f)\n",
    "        {\n",
    "            std::default_random_engine gen; \n",
    "            std::uniform_real_distribution<double> distr(a,b); \n",
    "            double dx = b-a;\n",
    "            double sum = 0;\n",
    "            for(int i = 0; i < n; i++){\n",
    "                double x = distr(gen);\n",
    "                sum += f(x);\n",
    "            }\n",
    "            return sum*dx/(double)n;\n",
    "        }\n",
    "        virtual void set_precision(int x)\n",
    "        {\n",
    "            this->n = x;\n",
    "        }\n",
    "};"
   ]
  },
  {
   "cell_type": "markdown",
   "metadata": {},
   "source": [
    "porównanie z użyciem tej samej liczby iteracji dla wszystkich metod, dla funkcji pierwszej  \n",
    "![](img/4.png)"
   ]
  },
  {
   "cell_type": "markdown",
   "metadata": {},
   "source": [
    "dla funkcji drugiej:  \n",
    "![](img/5.png)\n",
    "#  \n",
    "Widać, że metoda Monte Carlo wymaga znacznie większej liczby iteracjii w porównaniu do pozostałych"
   ]
  },
  {
   "cell_type": "markdown",
   "metadata": {},
   "source": [
    "Metoda Monte Carlo z użyciem większej liczby iteracji:  \n",
    "![](img/9.png)  \n",
    "![](img/7.png)  \n",
    "![](img/8.png)"
   ]
  },
  {
   "cell_type": "markdown",
   "metadata": {},
   "source": [
    "Metoda Monte Carlo pozwala uzyskać satysfakcjonujący wynik dopiero przy dużych liczbach iteracji. Metoda ta przydaje się przy liczeniu bardziej skomplikowanych całek z wieloma niewiadomymi, w wyższych wymiarach. Wtedy liczenie całek metodą Monte Carlo jest \"tańsze\" niż metody tradycyjne"
   ]
  },
  {
   "cell_type": "code",
   "execution_count": null,
   "metadata": {},
   "outputs": [],
   "source": []
  }
 ],
 "metadata": {
  "kernelspec": {
   "display_name": "Python 3",
   "language": "python",
   "name": "python3"
  },
  "language_info": {
   "codemirror_mode": {
    "name": "ipython",
    "version": 3
   },
   "file_extension": ".py",
   "mimetype": "text/x-python",
   "name": "python",
   "nbconvert_exporter": "python",
   "pygments_lexer": "ipython3",
   "version": "3.8.2"
  }
 },
 "nbformat": 4,
 "nbformat_minor": 2
}
