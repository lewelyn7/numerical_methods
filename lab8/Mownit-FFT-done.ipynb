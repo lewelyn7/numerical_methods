{
 "cells": [
  {
   "cell_type": "markdown",
   "metadata": {},
   "source": [
    "# Szybka transformata Fouriera\n",
    "\n",
    "<h3> Przydatne linki: </h3>\n",
    "\n",
    "\n",
    "- DFT z ewolucją do FFT: https://jakevdp.github.io/blog/2013/08/28/understanding-the-fft/\n",
    "\n",
    "### Transformata Fouriera\n",
    "\n",
    "Przenosi funkcję z dziedziny czasu do dziedziny częstotliwości wedle następującego wzoru:\n",
    "\n",
    "<img src=\"images/fourier-transform.svg\">\n",
    "\n",
    "Jeśli nie jest oczywiste, co to oznacza:\n",
    "* \"funkcja w dziedzinie czasu\" to po prostu funkcja typu `f : Czas -> Cokolwiek(często liczba)`. Przykładem może być zmiana temperatury w ciągu dnia (każdemu momentowi możemy przyporządkować konkretną wartość). \n",
    "Wykres takiej funkcji mógłby wyglądać tak:\n",
    "\n",
    "<img src=\"images/trends.png\">\n",
    "\n",
    "* \"funkcja w dziedzinie częstotliwości\" to w pewnym uproszczeniu funkcja, której podajemy jakąś częstotliwość, a ona mówi nam ile tej częstotliwości jest widoczne w funkcji, którą transformujemy. Wracając do przykładu z temperaturą: jeśli temperatura zmienia się w dobowych cyklach, to po transformacie Fouriera dowiemy się, że funkcja w domenie częstotliwości ma \"peak\" w okolicach częstotliwości 1/24h.\n",
    "\n",
    "Transformata Fouriera ogólnie zasadza się na idei, że skomplikowaną, ale okresową funkcję możemy rozłożyć na sumę podstawowych funkcji trygonometrycznych. Wtedy faktycznie możemy łatwo odpowiedzieć sobie na pytanie jakie częstotliwości są najbardziej w takiej funkcji widoczne.\n",
    "\n",
    "Podstawowe pytanie, jakie można zadać brzmi: po co się to robi? \n",
    "\n",
    "Można to stosować na przykład:\n",
    "\n",
    "* do analizy danych (żeby odpowiedzieć sobie na pytanie czy jakaś wartość zmienia się raczej z dnia na dzień, czy może z minuty na minutę -- wtedy dużo łatwiej stosować pozostałe metody statystyczne i analityczne)\n",
    "* do cyfrowego przetwarzania sygnałów,\n",
    "* do kompresji,\n",
    "* wiele, wiele więcej\n",
    "\n",
    "Drugie pytanie: skąd tam się bierze liczba Eulera we wszystkich wzorach?\n",
    "Odpowiedź, raczej dla intuicji niż ścisła: bo robimy transformację ze \"zwykłych\" liczb na jakąś sumę funkcji trygonometrycznych, czyli dokładnie tak, jak we wzorze Eulera:\n",
    "<img src=\"images/euler.png\">\n",
    "\n",
    "\n",
    "### Dyskretna transformacja Fouriera\n",
    "\n",
    "W praktyce jednak nie mamy do czynienia z ciągłymi funkcjami (choćby dlatego, że na komputerze możemy reprezentować tylko skończoną ilość wartości). W takim razie operujemy raczej na ciągach `(czas, wartość)`. Powoduje to jednak, że  transformatę jest nieco łatwiej wykonać. Intuicyjnie: całkowanie to bardzo \"gęste\" sumowanie. W takim razie powyższy wzór z całką możemy zamienić sobie na jakiś rodzaj (dyskretnego) sumowania. Tak się składa, że z pomocą przychodzą operacje na macierzach i wzór wyraża się dość prosto:\n",
    "\n",
    "<img src=\"images/dft.png\">\n",
    "\n",
    "Tak naprawdę w tym wzorze nie ma żadnej magii (jeśli zna się ten na ciągłą transformatę) -- to po prostu to, co powyżej, tylko całkowanie zamienione jest na sumowanie. Na Wikipedii można nawet znaleźć [prosty przykład dla 4 elementów](https://en.wikipedia.org/wiki/Discrete_Fourier_transform#Example). Zerknijmy, jak to wygląda z perspektywy użytkownika:\n",
    "\n",
    "#### Praktyczny przykład\n",
    "\n",
    "Mamy dane o ruchu na stronie www, tzn. dla każdej minuty mamy liczbę odsłon strony w tej minucie. Wykres (fragment) wygląda tak:\n",
    "<img src=\"images/timeseries.png\">\n",
    "\n",
    "Robimy dyskretną transformatę Fouriera takiego szeregu czasowego, żeby dowiedzieć się, jaka jest sezonowość danych. Poniższy wykres przedstawia udział poszczególnych częstotliwości w analizowanym szeregu:"
   ]
  },
  {
   "cell_type": "code",
   "execution_count": 3,
   "metadata": {},
   "outputs": [
    {
     "ename": "NameError",
     "evalue": "name 'fftpack' is not defined",
     "output_type": "error",
     "traceback": [
      "\u001b[0;31m---------------------------------------------------------------------------\u001b[0m",
      "\u001b[0;31mNameError\u001b[0m                                 Traceback (most recent call last)",
      "\u001b[0;32m<ipython-input-3-51468438e518>\u001b[0m in \u001b[0;36m<module>\u001b[0;34m\u001b[0m\n\u001b[1;32m      3\u001b[0m \u001b[0;31m# from scipy import fftpack       # do FFT\u001b[0m\u001b[0;34m\u001b[0m\u001b[0;34m\u001b[0m\u001b[0;34m\u001b[0m\u001b[0m\n\u001b[1;32m      4\u001b[0m \u001b[0;34m\u001b[0m\u001b[0m\n\u001b[0;32m----> 5\u001b[0;31m \u001b[0mX\u001b[0m \u001b[0;34m=\u001b[0m \u001b[0mfftpack\u001b[0m\u001b[0;34m(\u001b[0m\u001b[0mdataset\u001b[0m\u001b[0;34m)\u001b[0m\u001b[0;34m\u001b[0m\u001b[0;34m\u001b[0m\u001b[0m\n\u001b[0m\u001b[1;32m      6\u001b[0m \u001b[0mprint\u001b[0m\u001b[0;34m(\u001b[0m\u001b[0mX\u001b[0m\u001b[0;34m)\u001b[0m\u001b[0;34m\u001b[0m\u001b[0;34m\u001b[0m\u001b[0m\n\u001b[1;32m      7\u001b[0m \u001b[0mf_s\u001b[0m \u001b[0;34m=\u001b[0m \u001b[0;36m1\u001b[0m  \u001b[0;31m# godzinowo\u001b[0m\u001b[0;34m\u001b[0m\u001b[0;34m\u001b[0m\u001b[0m\n",
      "\u001b[0;31mNameError\u001b[0m: name 'fftpack' is not defined"
     ]
    }
   ],
   "source": [
    "import matplotlib.pyplot as plt # do wykresów\n",
    "import numpy as np              # do macierzy\n",
    "from scipy import fftpack       # do FFT\n",
    "\n",
    "X = fftpack.fft(dataset)\n",
    "f_s = 1  # godzinowo\n",
    "freqs = fftpack.fftfreq(len(dataset)) * f_s # czętotliwości\n",
    "fig, ax = plt.subplots()\n",
    "\n",
    "ax.stem(freqs[:40], np.abs(X)[:40])\n",
    "ax.set_xlabel('Frequency in hits/hour')\n",
    "ax.set_ylabel('Frequency Domain (Spectrum) Magnitude')\n",
    "ax.set_ylim(-1, 200)\n",
    "plt.show()"
   ]
  },
  {
   "cell_type": "markdown",
   "metadata": {},
   "source": [
    "Ważny jest parametr `f_s`: mówi nam, jaka jest jednostka czasu -- wybraliśmy jedną godzinę, czyli częstotliwości będą podane z jednostką 1/h.\n",
    "Nie mamy dostępnych danych, na których była prowadzona ta analiza, więc musimy zadowolić się rezultatem dołączonym statycznie:\n",
    "<img src=\"images/fourier.png\">\n",
    "\n",
    "Dominującą częstotliwością jest 0.006/h (czyli mniej więcej raz na tydzień) -- oznacza to, że nasze dane mają wzorce powtarzające się z tygodniową częstotliwością.\n",
    "\n",
    "### Szybka transformata Fouriera (FFT)\n",
    "\n",
    "Ciężko o lepsze wyjaśnienie, niż w linku, który już przytaczaliśmy: https://jakevdp.github.io/blog/2013/08/28/understanding-the-fft/.\n",
    "\n",
    "### Zadanie 1.\n",
    "\n",
    "Napisz klasę realizującą DFT. Proszę opisać kolejno realizowane na danych operacje posługując się teorią.\n",
    "\n",
    "### Zadanie 2.\n",
    "\n",
    "Korzystając z implementacji stworzonej w zadaniu 1 napisz klasę realizującą FFT (korzystając z algorytmu Cooleya-Tukeya). Implementacje poprzyj stosowym materiałem teoretycznym.\n",
    "\n",
    "### Zadanie 3.\n",
    "\n",
    "Dokonaj pomiarów czasu wykonywania obu transformat dla danych o różnym rozmiarze. \n",
    "Pomiaru dokonaj dla kilku wielkości danych (min. 10). Na tej podstawie dokonaj analizy czasowej złożoności obliczeniowej obu algorytmów i porównaj je ze sobą. Sprawdź czy zgadzają się z rządami teoretycznymi i opisz różnicę w algorytmie, która generuje różnicę w złożoności.\n",
    "\n",
    "### Zadanie 4.\n",
    "\n",
    "Przetestuj implementację z zadania 2. do wykonania analizy szeregu czasowego:\n",
    "1. Znajdź dane przedstawiające jakiś szereg czasowy.\n",
    "2. Załaduj je do programu.\n",
    "3. Zobacz, czy wykonanie analizy Fouriera na tych danych ma sens - być może trzeba pogrupować je w równe odstępy.\n",
    "4. Narysuj wykres w dziedzinie częstotliwości i postaraj się opisać zależności jakie możemy na nim dostrzec.\n",
    "\n",
    "### Zadanie 5 *. \n",
    "\n",
    "Wykonaj ponownie analizę FFT wykorzystując w tym celu [bibliotekę KFR](https://www.kfrlib.com) /  [FFTW](http://www.fftw.org)  /  [bibliotekę Aquila C++](https://aquila-dsp.org). Wykorzystaj dane z których korzystałeś w poprzednich zadaniach (analogiczne rozmiary w kolejnych iteracjach). Zestaw na wykresie wyniki pomiarów wybranej biblioteki oraz swojej własnej implementacji. Przedstaw możliwy sposób jakiejkolwiek optymalizacji swojego algorytmu, aby zbliżyć się do testowanych."
   ]
  },
  {
   "cell_type": "markdown",
   "metadata": {},
   "source": [
    "### **zad.1**\n",
    "\n",
    "zdecydowałem się na reprezentacje liczby zespolonej poprzez vector dwuwymiarowy. W alogrytmie najpierw tworzymy vector później wypełniamy kolejne jego elementy częścią urojoną i częścią rzeczywistą zgodnie z wzorem podanym wyżej."
   ]
  },
  {
   "cell_type": "markdown",
   "metadata": {},
   "source": [
    "```cpp\n",
    "class DFT{\n",
    "    public:\n",
    "        static std::vector<std::vector<double>> dft(std::vector<double> data){\n",
    "            std::vector<std::vector<double>>  result;\n",
    "            result.resize(data.size());\n",
    "            int n = data.size();\n",
    "            for(int i = 0; i < n; i++){\n",
    "                result[i].resize(2);\n",
    "                double sum = 0;\n",
    "                double sumi = 0;\n",
    "                for(int j = 0; j < n; j++){\n",
    "                    sum += data[j]*(cos(2.0*M_PI*(double)i*(double)j/(double)n));\n",
    "                    sumi += -1.0*data[j]*(sin(2.0*M_PI*(double)i*(double)j/(double)n));\n",
    "                }\n",
    "                result[i][0] = sum;\n",
    "                result[i][1] = sumi;\n",
    "\n",
    "            }\n",
    "            return result;\n",
    "        }\n",
    "};\n",
    "```"
   ]
  },
  {
   "cell_type": "markdown",
   "metadata": {},
   "source": [
    "### **zad.2**\n",
    "\n",
    "Reprezentacja liczby zespolonej jest taka sama jak w przykładzie powyżej."
   ]
  },
  {
   "cell_type": "markdown",
   "metadata": {},
   "source": [
    "```cpp\n",
    "class FFT{\n",
    "    public:\n",
    "        static std::vector<std::vector<double>> fft(std::vector<double> data){\n",
    "            \n",
    "            //tworzymy zmienne na przechowywanie wyniku, części parzystej macierzy oraz części nieparzystej\n",
    "            \n",
    "            std::vector<std::vector<double>>  result;\n",
    "            int n = data.size();\n",
    "            std::vector<double> data_even;\n",
    "            std::vector<double> data_odd;\n",
    "            \n",
    "            // warunek końca rekurencji\n",
    "            \n",
    "            if(n <= 32){\n",
    "                return DFT::dft(data);\n",
    "            }\n",
    "\n",
    "            // wypełniamy tablice części parzystej i nieparzystej macierzy oraz wywołujemy funkcje rekurencyjnie dla wyznaczonych podproblemów\n",
    "            \n",
    "            for(int i = 0;i < n; i+=2) data_even.push_back(data[i]);\n",
    "            std::vector<std::vector<double>> x_even = FFT::fft(data_even);\n",
    "\n",
    "            for(int i = 1;i < n; i+=2) data_odd.push_back(data[i]);\n",
    "            std::vector<std::vector<double>> x_odd = FFT::fft(data_odd);\n",
    "\n",
    "            //tutaj wyliczamy factor czyli część wzoru niezależną od sum\n",
    "            \n",
    "            std::vector<std::vector<double>> factor;\n",
    "            for(int i = 0; i < n; i++){\n",
    "                std::vector<double> item;\n",
    "                item.push_back(cos(-2.0*M_PI*(double)i/(double)n));\n",
    "                item.push_back(sin(-2.0*M_PI*(double)i/(double)n));\n",
    "                factor.push_back(item);\n",
    "            }\n",
    "\n",
    "            result.resize(n);\n",
    "            //tutaj dokonujemy mnożenia liczb zespolonych zgodnie ze wzorem ac - bd + (bc + ad)i dla każdego elementu z macierzy. Najpierw dla kolejnych części macierzy\n",
    "            for(int i = 0; i < n/2; i++){\n",
    "                result[i].resize(2);\n",
    "                //ac - bd + (bc +ad)i\n",
    "                result[i][0] = x_odd[i][0]*factor[i][0] - x_odd[i][1]*factor[i][1] + x_even[i][0];\n",
    "                result[i][1] = x_odd[i][1]*factor[i][0] + x_odd[i][0]*factor[i][1] + x_even[i][1];\n",
    "\n",
    "            }\n",
    "            for(int i = 0; i < n/2; i++){\n",
    "                result[i+n/2].resize(2);\n",
    "                //ac - bd + (bc +ad)i\n",
    "                result[i+n/2][0] = x_odd[i][0]*factor[i+n/2][0] - x_odd[i][1]*factor[i+n/2][1] + x_even[i][0];\n",
    "                result[i+n/2][1] = x_odd[i][1]*factor[i+n/2][0] + x_odd[i][0]*factor[i+n/2][1] + x_even[i][1];\n",
    "\n",
    "            }\n",
    "            return result;\n",
    "        }\n",
    "};\n",
    "```"
   ]
  },
  {
   "cell_type": "markdown",
   "metadata": {},
   "source": [
    "### **zad.3**"
   ]
  },
  {
   "cell_type": "markdown",
   "metadata": {},
   "source": [
    "Dane wygenerowałem skryptem Pythonowym:"
   ]
  },
  {
   "cell_type": "markdown",
   "metadata": {},
   "source": [
    "```python\n",
    "import numpy as np\n",
    "\n",
    "for num in range(15):\n",
    "    x = np.random.random(2**(num+1))\n",
    "    with open(\"data\" + str(num) + \".txt\", \"w\") as file:\n",
    "        for i in x:\n",
    "            file.write(str(i))\n",
    "            file.write(\"\\n\")\n",
    "\n",
    "    xr = np.fft.fft(x)\n",
    "    with open(\"expected\" + str(num) + \".txt\", \"w\") as file:\n",
    "        for i in xr:\n",
    "            file.write(str(i.real) + \" \" + str(i.imag))\n",
    "            file.write(\"\\n\")\n",
    "\n",
    "```"
   ]
  },
  {
   "cell_type": "markdown",
   "metadata": {},
   "source": [
    "wynik przy użyciu FFT (czas w mikrosekundach):"
   ]
  },
  {
   "cell_type": "markdown",
   "metadata": {},
   "source": [
    "```\n",
    "wielkosc_danych czas\n",
    "2 32\n",
    "4 3\n",
    "8 7\n",
    "16 23\n",
    "32 73\n",
    "64 243\n",
    "128 546\n",
    "256 1979\n",
    "512 3385\n",
    "1024 8679\n",
    "2048 21021\n",
    "4096 40993\n",
    "8192 96661\n",
    "16384 204108\n",
    "32768 457231\n",
    "```"
   ]
  },
  {
   "cell_type": "markdown",
   "metadata": {},
   "source": [
    "wynik przy użyciu DFT (czas w mikrosekundach):"
   ]
  },
  {
   "cell_type": "markdown",
   "metadata": {},
   "source": [
    "```\n",
    "wielkosc_danych czas:\n",
    "2 1\n",
    "4 2\n",
    "8 5\n",
    "16 22\n",
    "32 71\n",
    "64 264\n",
    "128 766\n",
    "256 2769\n",
    "512 12222\n",
    "1024 46718\n",
    "2048 194377\n",
    "4096 735934\n",
    "8192 2889814\n",
    "16384 11686642\n",
    "32768 47207718\n",
    "```"
   ]
  },
  {
   "cell_type": "markdown",
   "metadata": {},
   "source": [
    "wykres dla rozmiaru do 1024:  \n",
    "#  \n",
    "![](./images/compare_10.png)  \n",
    "#  \n",
    "wykres dla rozmiaru do 32768:  \n",
    "#  \n",
    "![](./images/compare_15.png)"
   ]
  },
  {
   "cell_type": "markdown",
   "metadata": {},
   "source": [
    "Krzywe zgadzają się ż rzędem teoretycznym - widać, że DFT ma złożoność $O(n^2)$, a FFT $O(nlog(n))$. Różnica w złożoności polega wynika z najpierw obniżenia złożoności algorytmu do $(n/2)*n$, a następnie z zastosowania rekurencji. Jeśli przy każdym wywołaniu obniżymy ilość wywołań o połowę to w wyniku otrzymamy n * wysokość drzewa wywołań, czyli $nlog(n)$"
   ]
  },
  {
   "cell_type": "markdown",
   "metadata": {},
   "source": [
    "### **zad.4**  \n",
    "\n",
    "Znalazłem dane przedstawiające temperaturę w Polsce w okresie od 01.06.2006 do 08.06.2006 z interwałem godzinnym. Dane znajdują się w pliku `dataexport_20200608T201802.csv`. Dane skopiowałem do pliku `weather_dataset.txt` a wynik znajduje się w pliku `weather_result.txt`  \n",
    "#  \n",
    "#### weather_dataset:\n",
    "![](images/weather_dataset.png)\n",
    "#  \n",
    "#### weather_result:\n",
    "![](images/weather_result.png)  \n",
    "#  \n",
    "#### po wyzoomowaniu:\n",
    "![](images/weather_result2.png)  \n",
    "\n",
    "\n",
    "Widać, że dane powtarzają się z odstępem 24h (przyjęta jednostka to 1/24h), co można było przypuszczać\n"
   ]
  },
  {
   "cell_type": "code",
   "execution_count": null,
   "metadata": {},
   "outputs": [],
   "source": []
  },
  {
   "cell_type": "code",
   "execution_count": null,
   "metadata": {},
   "outputs": [],
   "source": []
  }
 ],
 "metadata": {
  "kernelspec": {
   "display_name": "Python 3",
   "language": "python",
   "name": "python3"
  },
  "language_info": {
   "codemirror_mode": {
    "name": "ipython",
    "version": 3
   },
   "file_extension": ".py",
   "mimetype": "text/x-python",
   "name": "python",
   "nbconvert_exporter": "python",
   "pygments_lexer": "ipython3",
   "version": "3.8.3"
  }
 },
 "nbformat": 4,
 "nbformat_minor": 2
}
